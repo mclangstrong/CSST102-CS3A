{
  "nbformat": 4,
  "nbformat_minor": 0,
  "metadata": {
    "colab": {
      "provenance": []
    },
    "kernelspec": {
      "name": "python3",
      "display_name": "Python 3"
    },
    "language_info": {
      "name": "python"
    }
  },
  "cells": [
    {
      "cell_type": "markdown",
      "source": [
        "# **Exercise 1: Linear Regression Implementation**\n"
      ],
      "metadata": {
        "id": "EnF5tmAmNf4o"
      }
    },
    {
      "cell_type": "markdown",
      "source": [
        "**Importing Libraries**"
      ],
      "metadata": {
        "id": "LvNpWLja48cf"
      }
    },
    {
      "cell_type": "markdown",
      "source": [],
      "metadata": {
        "id": "bfBuc0SJOUvP"
      }
    },
    {
      "cell_type": "markdown",
      "source": [],
      "metadata": {
        "id": "lVwQ5crvRpGF"
      }
    },
    {
      "cell_type": "code",
      "execution_count": null,
      "metadata": {
        "id": "_FXXpnEC1v0t"
      },
      "outputs": [],
      "source": [
        "import pandas as pd\n",
        "import numpy as np\n",
        "import matplotlib.pyplot as plt\n",
        "from sklearn.model_selection import train_test_split"
      ]
    },
    {
      "cell_type": "markdown",
      "source": [
        "**Load Dataset**"
      ],
      "metadata": {
        "id": "tU9e3owu4-yA"
      }
    },
    {
      "cell_type": "code",
      "source": [
        "dataset = pd.read_csv(\"/content/datasets_house_prices.csv\")\n",
        "print(dataset.head(5))\n",
        "dataset.shape"
      ],
      "metadata": {
        "colab": {
          "base_uri": "https://localhost:8080/"
        },
        "id": "b8pfPvj15Aqw",
        "outputId": "e119df49-29e2-415b-9e4f-295042f68b8b"
      },
      "execution_count": null,
      "outputs": [
        {
          "output_type": "stream",
          "name": "stdout",
          "text": [
            "   Size (sqft)  Bedrooms  Age  Proximity to Downtown (miles)         Price\n",
            "0         3974         1   97                       2.032719  1.162771e+06\n",
            "1         1660         5   88                      23.695207  4.900021e+05\n",
            "2         2094         4   49                       6.440232  6.400737e+05\n",
            "3         1930         2   28                       8.129315  5.637881e+05\n",
            "4         1895         1   56                       5.358837  5.651289e+05\n"
          ]
        },
        {
          "output_type": "execute_result",
          "data": {
            "text/plain": [
              "(1000, 5)"
            ]
          },
          "metadata": {},
          "execution_count": 2
        }
      ]
    },
    {
      "cell_type": "code",
      "source": [
        "print(dataset.isnull().sum())"
      ],
      "metadata": {
        "colab": {
          "base_uri": "https://localhost:8080/"
        },
        "id": "45V1idJYFNV-",
        "outputId": "411355c5-2828-474d-bdcb-0805fe98d150"
      },
      "execution_count": null,
      "outputs": [
        {
          "output_type": "stream",
          "name": "stdout",
          "text": [
            "Size (sqft)                      0\n",
            "Bedrooms                         0\n",
            "Age                              0\n",
            "Proximity to Downtown (miles)    0\n",
            "Price                            0\n",
            "dtype: int64\n"
          ]
        }
      ]
    },
    {
      "cell_type": "markdown",
      "source": [
        "**Normalize the features**"
      ],
      "metadata": {
        "id": "_P_zyfi65yw5"
      }
    },
    {
      "cell_type": "code",
      "source": [
        "dataset[['Size (sqft)', 'Bedrooms', 'Age', 'Proximity to Downtown (miles)']] = (\n",
        "    dataset[['Size (sqft)', 'Bedrooms', 'Age', 'Proximity to Downtown (miles)']] - dataset[['Size (sqft)', 'Bedrooms', 'Age', 'Proximity to Downtown (miles)']].min()\n",
        ") / (dataset[['Size (sqft)', 'Bedrooms', 'Age', 'Proximity to Downtown (miles)']].max() - dataset[['Size (sqft)', 'Bedrooms', 'Age', 'Proximity to Downtown (miles)']].min())\n"
      ],
      "metadata": {
        "id": "cVmzHLk35w3X"
      },
      "execution_count": null,
      "outputs": []
    },
    {
      "cell_type": "markdown",
      "source": [
        "**Model Implementation**"
      ],
      "metadata": {
        "id": "khnUKOuIFfbL"
      }
    },
    {
      "cell_type": "code",
      "source": [
        "X = dataset['Size (sqft)'].values\n",
        "y = dataset['Price'].values\n",
        "\n",
        "n = len(X)\n",
        "sum_x = np.sum(X)\n",
        "sum_y = np.sum(y)\n",
        "sum_xy = np.sum(X * y)\n",
        "sum_x_squared = np.sum(X ** 2)\n",
        "\n",
        "m = (n * sum_xy - sum_x * sum_y) / (n * sum_x_squared - sum_x ** 2)\n",
        "b = (sum_y - m * sum_x) / n\n",
        "\n",
        "print(f\"Slope (m): {m}\")\n",
        "print(f\"Intercept (b): {b}\")"
      ],
      "metadata": {
        "colab": {
          "base_uri": "https://localhost:8080/"
        },
        "id": "t5LaW3HyFhTP",
        "outputId": "2ad943ae-8f32-4191-93bc-6720698f9739"
      },
      "execution_count": null,
      "outputs": [
        {
          "output_type": "stream",
          "name": "stdout",
          "text": [
            "Slope (m): 957261.3251088181\n",
            "Intercept (b): 231180.30562681888\n"
          ]
        }
      ]
    },
    {
      "cell_type": "markdown",
      "source": [
        "**Function to predict house price based on input size**"
      ],
      "metadata": {
        "id": "Cyfw5Qo2Fxn2"
      }
    },
    {
      "cell_type": "code",
      "source": [
        "def predict_price(size):\n",
        "    return m * size + b\n",
        "\n",
        "test_size = 3000\n",
        "predicted_price = predict_price(test_size)\n",
        "print(f\"Predicted price for house size {test_size} sq.ft: {predicted_price}\")\n",
        "\n",
        "X_train, X_test, y_train, y_test = train_test_split(X, y, test_size=0.2, random_state=42)\n",
        "\n",
        "n_train = len(X_train)\n",
        "sum_x_train = np.sum(X_train)\n",
        "sum_y_train = np.sum(y_train)\n",
        "sum_xy_train = np.sum(X_train * y_train)\n",
        "sum_x_squared_train = np.sum(X_train ** 2)\n",
        "\n",
        "m_train = (n_train * sum_xy_train - sum_x_train * sum_y_train) / (n_train * sum_x_squared_train - sum_x_train ** 2)\n",
        "b_train = (sum_y_train - m_train * sum_x_train) / n_train\n",
        "\n",
        "print(f\"Training Slope (m): {m_train}\")\n",
        "print(f\"Training Intercept (b): {b_train}\")"
      ],
      "metadata": {
        "colab": {
          "base_uri": "https://localhost:8080/"
        },
        "id": "BtlBZPwyF0Tk",
        "outputId": "9840c33d-47c4-461b-adf2-f0ffc756cf9f"
      },
      "execution_count": null,
      "outputs": [
        {
          "output_type": "stream",
          "name": "stdout",
          "text": [
            "Predicted price for house size 3000 sq.ft: 2872015155.632081\n",
            "Training Slope (m): 957229.6854309321\n",
            "Training Intercept (b): 230980.18650331\n"
          ]
        }
      ]
    },
    {
      "cell_type": "markdown",
      "source": [
        "**Update predict_price function to use training set values**"
      ],
      "metadata": {
        "id": "4GQ23WfYGvqu"
      }
    },
    {
      "cell_type": "code",
      "source": [
        "def predict_price_train(size):\n",
        "    return m_train * size + b_train\n",
        "\n",
        "def mean_squared_error(y_true, y_pred):\n",
        "    return np.mean((y_true - y_pred) ** 2)"
      ],
      "metadata": {
        "id": "xZjR7HtdGygC"
      },
      "execution_count": null,
      "outputs": []
    },
    {
      "cell_type": "markdown",
      "source": [
        "**Predictions on the training set**"
      ],
      "metadata": {
        "id": "Of_yLliSHCES"
      }
    },
    {
      "cell_type": "code",
      "source": [
        "y_train_pred = [predict_price_train(x) for x in X_train]\n",
        "mse_train = mean_squared_error(y_train, y_train_pred)\n",
        "print(f\"MSE on training data: {mse_train}\")"
      ],
      "metadata": {
        "colab": {
          "base_uri": "https://localhost:8080/"
        },
        "id": "mClxlQlBHChN",
        "outputId": "1657c2e4-a0ee-4af3-829f-52222b49d85f"
      },
      "execution_count": null,
      "outputs": [
        {
          "output_type": "stream",
          "name": "stdout",
          "text": [
            "MSE on training data: 253576579.8108736\n"
          ]
        }
      ]
    },
    {
      "cell_type": "markdown",
      "source": [
        "**Predictions on the testing set**"
      ],
      "metadata": {
        "id": "Det6oHWrHE1T"
      }
    },
    {
      "cell_type": "code",
      "source": [
        "y_test_pred = [predict_price_train(x) for x in X_test]\n",
        "mse_test = mean_squared_error(y_test, y_test_pred)\n",
        "print(f\"MSE on testing data: {mse_test}\")"
      ],
      "metadata": {
        "colab": {
          "base_uri": "https://localhost:8080/"
        },
        "id": "p2L7XpfLHLiZ",
        "outputId": "e2a3dc3c-8a6d-41e0-c5b8-67549144eeba"
      },
      "execution_count": null,
      "outputs": [
        {
          "output_type": "stream",
          "name": "stdout",
          "text": [
            "MSE on testing data: 253668187.22040227\n"
          ]
        }
      ]
    },
    {
      "cell_type": "markdown",
      "source": [
        "**Plot the regression line along with test data points**"
      ],
      "metadata": {
        "id": "rj-it_KqHQAk"
      }
    },
    {
      "cell_type": "code",
      "source": [
        "plt.scatter(X_test, y_test, color='blue', label='Actual Prices')\n",
        "plt.plot(X_test, [predict_price_train(x) for x in X_test], color='red', label='Predicted Prices')\n",
        "plt.xlabel('Size (sqft)')\n",
        "plt.ylabel('Price')\n",
        "plt.title('Actual vs Predicted House Prices')\n",
        "plt.legend()\n",
        "plt.show()"
      ],
      "metadata": {
        "colab": {
          "base_uri": "https://localhost:8080/",
          "height": 472
        },
        "id": "9u1o3-1GHRuR",
        "outputId": "e8f7d7c6-a781-4dc7-bbf2-a72d004c18b4"
      },
      "execution_count": null,
      "outputs": [
        {
          "output_type": "display_data",
          "data": {
            "text/plain": [
              "<Figure size 640x480 with 1 Axes>"
            ],
            "image/png": "[encoded data removed]"
          },
          "metadata": {}
        }
      ]
    },
    {
      "cell_type": "markdown",
      "source": [
        "**Summarize Report**\n",
        "\n",
        "The data set presented includes many characteristics such as the size of the house, the number of rooms, the age of the house, the proximity to the city and the price of that house.\n",
        "\n",
        "First,checked for missing values ​​in the dataset. Fortunately, there are no missing values, so no redistribution. Using Min-Max normalization, characteristics (house size, number of rooms, age of the house, proximity to the city) are determined. This ensured that the conditions were consistent and prevented certain conditions from affecting the model.\n",
        "\n",
        "We implemented a manual regression model without using built-in libraries such as Scikit-learn. The procedure includes:\n",
        "\n",
        "Calculation of the slope and intercept of the regression line using least squares methods. These parameters define the relationship between home size and price and allow us to predict prices.\n",
        "\n",
        "Final parameters:Elevation (m): 957261.33 Distance (b): 231180.31 A prediction function was written to estimate the house price based on the specified size.\n",
        "\n",
        "The dataset was split into training and test sets (80% training, 20% testing) to evaluate the model. The training data were used to fit a linear regression model, where:Increment on training data (m): 957229.69 Intercept on training data (b): 230980.19 Using these parameter we successfully predict house prices for the data we marked as a new list."
      ],
      "metadata": {
        "id": "ZKNw-cegJLnM"
      }
    },
    {
      "cell_type": "markdown",
      "source": [
        "**Conclusion**\n",
        "\n",
        "A manually implemented linear regression model was able to predict real estate prices with reasonable accuracy. The close approximation between the actual and predicted costs was confirmed by plotting the regression line against the actual data points..\n",
        "\n",
        "**Challenges & Solutions**\n",
        "\n",
        "Adjust: In the beginning, different scales apply to the model. We did this using Min-Max normalization.\n",
        "Accuracy of the model: The high values ​​of MSE can be attributed to the nature of house prices, and the model can be improved by including more features, to adjust or meta-parameters.."
      ],
      "metadata": {
        "id": "OeLP_QB_JZ7U"
      }
    }
  ]
}